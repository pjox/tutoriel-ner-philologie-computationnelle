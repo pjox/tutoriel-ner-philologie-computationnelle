{
 "cells": [
  {
   "cell_type": "markdown",
   "metadata": {},
   "source": [
    "# Reconnaître les entités nommées\n",
    "## Exemple d'utilisation d'un modèle NER\n",
    "\n",
    "[![Open In Colab](https://colab.research.google.com/assets/colab-badge.svg)](https://colab.research.google.com/github/pjox/tutoriel-ner-philologie-computationnelle/blob/master/exemple_ner.ipynb)"
   ]
  },
  {
   "cell_type": "code",
   "execution_count": null,
   "metadata": {},
   "outputs": [],
   "source": [
    "# Nous commençons par importer les bibliothèques nécessaires et par télécharger les fichiers d'entraînement et de test.\n",
    "! pip install flair gdown\n",
    "! mkdir -p resources/taggers/\n",
    "! gdown https://drive.google.com/uc\\?id\\=1PkjNJ-D6r7YEmAP6BmCw-3_RObmtnNEb\n",
    "! unzip ner-transformer-ftb -d resources/taggers/"
   ]
  },
  {
   "cell_type": "code",
   "execution_count": 2,
   "metadata": {},
   "outputs": [
    {
     "name": "stdout",
     "output_type": "stream",
     "text": [
      "2021-12-02 17:48:49,098 loading file resources/taggers/ner-transformer-ftb/final-model.pt\n"
     ]
    }
   ],
   "source": [
    "from flair.models import SequenceTagger\n",
    "\n",
    "tagger = SequenceTagger.load('resources/taggers/ner-transformer-ftb/best-model.pt')"
   ]
  },
  {
   "cell_type": "code",
   "execution_count": 5,
   "metadata": {},
   "outputs": [
    {
     "name": "stdout",
     "output_type": "stream",
     "text": [
      "Apple <B-Company> est créée le 1er avril 1976 dans le garage de la maison d'enfance de Steve <B-Person> Jobs <I-Person> à Los <B-Location> Altos <I-Location> en Californie <B-Location> par Steve <B-Person> Jobs <I-Person> , Steve <B-Person> Wozniak <I-Person> et Ronald <B-Person> Wayne <I-Person> , puis constituée sous forme de société le 3 janvier 1977 à l'origine sous le nom d'Apple Computer <I-Company> , mais pour ses 30 ans et pour refléter la diversification de ses produits , le mot « computer » est retiré le 9 janvier 2007 .\n"
     ]
    }
   ],
   "source": [
    "from flair.data import Sentence\n",
    "sentence = Sentence(\"Apple est créée le 1er avril 1976 dans le garage de la maison d'enfance de Steve Jobs à Los Altos en Californie par Steve Jobs, Steve Wozniak et Ronald Wayne.\")\n",
    "\n",
    "# prédire les balises NER\n",
    "tagger.predict(sentence)\n",
    "\n",
    "# imprimer une phrase avec des balises prédites\n",
    "print(sentence.to_tagged_string())"
   ]
  },
  {
   "cell_type": "code",
   "execution_count": 6,
   "metadata": {},
   "outputs": [
    {
     "name": "stdout",
     "output_type": "stream",
     "text": [
      "Span [1]: \"Apple\"   [− Labels: Company (0.8977)]\n",
      "Span [16,17]: \"Steve Jobs\"   [− Labels: Person (0.868)]\n",
      "Span [19,20]: \"Los Altos\"   [− Labels: Location (0.7522)]\n",
      "Span [22]: \"Californie\"   [− Labels: Location (0.9384)]\n",
      "Span [24,25]: \"Steve Jobs\"   [− Labels: Person (0.8681)]\n",
      "Span [27,28]: \"Steve Wozniak\"   [− Labels: Person (0.8681)]\n",
      "Span [30,31]: \"Ronald Wayne\"   [− Labels: Person (0.8679)]\n",
      "Span [49]: \"Computer\"   [− Labels: Company (0.762)]\n"
     ]
    }
   ],
   "source": [
    "for entity in sentence.get_spans('ner'):\n",
    "    print(entity)"
   ]
  },
  {
   "cell_type": "code",
   "execution_count": 7,
   "metadata": {},
   "outputs": [
    {
     "name": "stdout",
     "output_type": "stream",
     "text": [
      "{'text': \"Apple est créée le 1er avril 1976 dans le garage de la maison d'enfance de Steve Jobs à Los Altos en Californie par Steve Jobs, Steve Wozniak et Ronald Wayne, puis constituée sous forme de société le 3 janvier 1977 à l'origine sous le nom d'Apple Computer, mais pour ses 30 ans et pour refléter la diversification de ses produits, le mot « computer » est retiré le 9 janvier 2007.\", 'labels': [], 'entities': [{'text': 'Apple', 'start_pos': 0, 'end_pos': 5, 'labels': [Company (0.8977)]}, {'text': 'Steve Jobs', 'start_pos': 75, 'end_pos': 85, 'labels': [Person (0.868)]}, {'text': 'Los Altos', 'start_pos': 88, 'end_pos': 97, 'labels': [Location (0.7522)]}, {'text': 'Californie', 'start_pos': 101, 'end_pos': 111, 'labels': [Location (0.9384)]}, {'text': 'Steve Jobs', 'start_pos': 116, 'end_pos': 126, 'labels': [Person (0.8681)]}, {'text': 'Steve Wozniak', 'start_pos': 128, 'end_pos': 141, 'labels': [Person (0.8681)]}, {'text': 'Ronald Wayne', 'start_pos': 145, 'end_pos': 157, 'labels': [Person (0.8679)]}, {'text': 'Computer', 'start_pos': 247, 'end_pos': 255, 'labels': [Company (0.762)]}]}\n"
     ]
    }
   ],
   "source": [
    "print(sentence.to_dict(tag_type='ner'))"
   ]
  },
  {
   "cell_type": "code",
   "execution_count": 8,
   "metadata": {},
   "outputs": [
    {
     "name": "stdout",
     "output_type": "stream",
     "text": [
      "L'Institut national <I-Organization> de <I-Organization> recherche <I-Organization> en <I-Organization> informatique <I-Organization> et <I-Organization> en <I-Organization> automatique <I-Organization> ( Inria <B-Organization> ) est un établissement public à caractère scientifique et technologique français spécialisé en mathématiques et informatique , placé sous la double tutelle du ministère de l'Enseignement supérieur , de la Recherche et <I-Organization> de l'Innovation et du ministère de l'Économie et des Finances créé le 3 janvier 1967 dans le cadre du « plan Calcul » .\n",
      "Inria <B-Organization> a pour mission le développement de la recherche et de la valorisation en sciences et techniques de l'information et de la communication , au niveau national comme au plan international .\n",
      "L'institut pilote également la stratégie nationale française en termes de recherche en intelligence artificielle .\n"
     ]
    }
   ],
   "source": [
    "from flair.tokenization import SegtokSentenceSplitter\n",
    "\n",
    "# exemple de texte avec plusieurs phrases\n",
    "text = \"\"\"L'Institut national de recherche en informatique et en automatique (Inria) \n",
    "est un établissement public à caractère scientifique et technologique français spécialisé en mathématiques et informatique, \n",
    "placé sous la double tutelle du ministère de l'Enseignement supérieur, \n",
    "de la Recherche et de l'Innovation et du ministère de l'Économie et des Finances créé le 3 janvier 1967 dans le cadre du « plan Calcul ».\n",
    "Inria a pour mission le développement de la recherche et de la valorisation en sciences et techniques de l'information et de la communication, \n",
    "au niveau national comme au plan international. \n",
    "L'institut pilote également la stratégie nationale française en termes de recherche en intelligence artificielle.\"\"\"\n",
    "\n",
    "# initialiser sentence splitter\n",
    "splitter = SegtokSentenceSplitter()\n",
    "\n",
    "# utiliser le splitter pour découper le texte en liste de phrases\n",
    "sentences = splitter.split(text)\n",
    "\n",
    "# predict tags for sentences\n",
    "tagger.predict(sentences)\n",
    "\n",
    "# parcourir les phrases et imprimer les étiquettes prédites\n",
    "for sentence in sentences:\n",
    "    print(sentence.to_tagged_string())"
   ]
  },
  {
   "cell_type": "code",
   "execution_count": null,
   "metadata": {},
   "outputs": [],
   "source": []
  }
 ],
 "metadata": {
  "interpreter": {
   "hash": "94db80c7e4c8ce482178e87ca0c820a822ca81e98511de96f9f210170538412f"
  },
  "kernelspec": {
   "display_name": "Python 3.9.7 64-bit ('flair': conda)",
   "language": "python",
   "name": "python3"
  },
  "language_info": {
   "codemirror_mode": {
    "name": "ipython",
    "version": 3
   },
   "file_extension": ".py",
   "mimetype": "text/x-python",
   "name": "python",
   "nbconvert_exporter": "python",
   "pygments_lexer": "ipython3",
   "version": "3.9.7"
  },
  "orig_nbformat": 4
 },
 "nbformat": 4,
 "nbformat_minor": 2
}
